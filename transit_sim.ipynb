{
 "cells": [
  {
   "cell_type": "markdown",
   "id": "LT0_GCN8lWCA",
   "metadata": {
    "id": "LT0_GCN8lWCA"
   },
   "source": [
    "### Step 1. Download input data"
   ]
  },
  {
   "cell_type": "code",
   "execution_count": null,
   "id": "p45HpPq0lYNw",
   "metadata": {
    "id": "p45HpPq0lYNw"
   },
   "outputs": [],
   "source": [
    "!rm -rf *\n",
    "!mkdir example_gtfs_bart\n",
    "!mkdir outputs\n",
    "!mkdir outputs/train_outputs\n",
    "!mkdir outputs/traveler_outputs\n",
    "\n",
    "!wget \"https://raw.githubusercontent.com/cb-cities/transit_sim/main/example_gtfs_bart/stop_times.txt\" -O example_gtfs_bart/stop_times.txt\n",
    "!wget \"https://raw.githubusercontent.com/cb-cities/transit_sim/main/example_gtfs_bart/stops.txt\" -O example_gtfs_bart/stops.txt\n",
    "!wget \"https://raw.githubusercontent.com/cb-cities/transit_sim/main/example_gtfs_bart/trips.txt\" -O example_gtfs_bart/trips.txt\n",
    "\n",
    "!mkdir model\n",
    "!wget \"https://raw.githubusercontent.com/cb-cities/transit_sim/main/model/transit_sim_model.py\" -O model/transit_sim_model.py\n",
    "\n",
    "!mkdir sp\n",
    "!wget \"https://github.com/UCB-CE170a/Fall2021/raw/master/traffic_data/liblsp.so\" -O sp/liblsp.so\n",
    "!wget \"https://raw.githubusercontent.com/UCB-CE170a/Fall2021/master/traffic_data/interface.py\" -O sp/interface.py\n",
    "\n",
    "!pip install geopandas"
   ]
  },
  {
   "cell_type": "markdown",
   "id": "mMR4650MlZ3e",
   "metadata": {
    "id": "mMR4650MlZ3e"
   },
   "source": [
    "### Step 2. Import modules"
   ]
  },
  {
   "cell_type": "code",
   "execution_count": 4,
   "id": "64c95e77",
   "metadata": {
    "id": "64c95e77"
   },
   "outputs": [],
   "source": [
    "### plotting\n",
    "import matplotlib.pyplot as plt\n",
    "\n",
    "### user module\n",
    "from model.transit_sim_model import Network, Trains, Travelers\n",
    "\n",
    "### fix random seed\n",
    "import numpy as np\n",
    "np.random.seed(0)"
   ]
  },
  {
   "cell_type": "markdown",
   "id": "56bd6353",
   "metadata": {
    "id": "56bd6353"
   },
   "source": [
    "### Step 3. Process GTFS schedules\n",
    "Need the following tables:\n",
    " * stop_times.txt: schedule info\n",
    " * trips.txt: map trip_id to route_id\n",
    " * stops.txt: get stop coordinates (for visualization)"
   ]
  },
  {
   "cell_type": "code",
   "execution_count": 5,
   "id": "e5586cb7",
   "metadata": {
    "id": "e5586cb7"
   },
   "outputs": [],
   "source": [
    "### read in GTFS files\n",
    "stop_times_file = 'example_gtfs_bart/stop_times.txt'\n",
    "trips_file = 'example_gtfs_bart/trips.txt'\n",
    "stops_file = 'example_gtfs_bart/stops.txt'\n",
    "### only keep results with this service id\n",
    "service_id = '2021_09_13-DX-MVS-Weekday-08'\n",
    "\n",
    "### create all trains from GTFS\n",
    "all_trains = Trains()\n",
    "all_nodes, all_links = all_trains.schedule_and_network_from_gtfs(\n",
    "    stop_times_file, trips_file, stops_file, service_id)\n",
    "\n",
    "### create network from nodes and links\n",
    "network = Network(all_nodes, all_links)"
   ]
  },
  {
   "cell_type": "code",
   "execution_count": 6,
   "id": "c509a998",
   "metadata": {
    "colab": {
     "base_uri": "https://localhost:8080/",
     "height": 270
    },
    "id": "c509a998",
    "outputId": "c7cd8412-0649-4577-96f2-75c237f12ec4"
   },
   "outputs": [
    {
     "data": {
      "text/html": [
       "<div>\n",
       "<style scoped>\n",
       "    .dataframe tbody tr th:only-of-type {\n",
       "        vertical-align: middle;\n",
       "    }\n",
       "\n",
       "    .dataframe tbody tr th {\n",
       "        vertical-align: top;\n",
       "    }\n",
       "\n",
       "    .dataframe thead th {\n",
       "        text-align: right;\n",
       "    }\n",
       "</style>\n",
       "<table border=\"1\" class=\"dataframe\">\n",
       "  <thead>\n",
       "    <tr style=\"text-align: right;\">\n",
       "      <th></th>\n",
       "      <th>route_stop_id</th>\n",
       "      <th>stop_lon</th>\n",
       "      <th>stop_lat</th>\n",
       "      <th>stop_id</th>\n",
       "      <th>type</th>\n",
       "      <th>node_id</th>\n",
       "      <th>geometry</th>\n",
       "    </tr>\n",
       "  </thead>\n",
       "  <tbody>\n",
       "    <tr>\n",
       "      <th>0</th>\n",
       "      <td>5-BERY</td>\n",
       "      <td>-121.874322</td>\n",
       "      <td>37.368759</td>\n",
       "      <td>BERY</td>\n",
       "      <td>platform</td>\n",
       "      <td>0</td>\n",
       "      <td>POINT (-121.87432 37.36876)</td>\n",
       "    </tr>\n",
       "    <tr>\n",
       "      <th>1</th>\n",
       "      <td>5-MLPT</td>\n",
       "      <td>-121.890722</td>\n",
       "      <td>37.410562</td>\n",
       "      <td>MLPT</td>\n",
       "      <td>platform</td>\n",
       "      <td>1</td>\n",
       "      <td>POINT (-121.89072 37.41056)</td>\n",
       "    </tr>\n",
       "    <tr>\n",
       "      <th>2</th>\n",
       "      <td>5-WARM</td>\n",
       "      <td>-121.939036</td>\n",
       "      <td>37.50257</td>\n",
       "      <td>WARM</td>\n",
       "      <td>platform</td>\n",
       "      <td>2</td>\n",
       "      <td>POINT (-121.93904 37.50257)</td>\n",
       "    </tr>\n",
       "  </tbody>\n",
       "</table>\n",
       "</div>"
      ],
      "text/plain": [
       "  route_stop_id    stop_lon   stop_lat stop_id      type  node_id  \\\n",
       "0        5-BERY -121.874322  37.368759    BERY  platform        0   \n",
       "1        5-MLPT -121.890722  37.410562    MLPT  platform        1   \n",
       "2        5-WARM -121.939036   37.50257    WARM  platform        2   \n",
       "\n",
       "                      geometry  \n",
       "0  POINT (-121.87432 37.36876)  \n",
       "1  POINT (-121.89072 37.41056)  \n",
       "2  POINT (-121.93904 37.50257)  "
      ]
     },
     "metadata": {},
     "output_type": "display_data"
    },
    {
     "data": {
      "text/html": [
       "<div>\n",
       "<style scoped>\n",
       "    .dataframe tbody tr th:only-of-type {\n",
       "        vertical-align: middle;\n",
       "    }\n",
       "\n",
       "    .dataframe tbody tr th {\n",
       "        vertical-align: top;\n",
       "    }\n",
       "\n",
       "    .dataframe thead th {\n",
       "        text-align: right;\n",
       "    }\n",
       "</style>\n",
       "<table border=\"1\" class=\"dataframe\">\n",
       "  <thead>\n",
       "    <tr style=\"text-align: right;\">\n",
       "      <th></th>\n",
       "      <th>route_stop_id</th>\n",
       "      <th>next_route_stop_id</th>\n",
       "      <th>start_nid</th>\n",
       "      <th>end_nid</th>\n",
       "      <th>initial_weight</th>\n",
       "      <th>geometry</th>\n",
       "    </tr>\n",
       "  </thead>\n",
       "  <tbody>\n",
       "    <tr>\n",
       "      <th>66</th>\n",
       "      <td>5-BERY</td>\n",
       "      <td>5-MLPT</td>\n",
       "      <td>0</td>\n",
       "      <td>1</td>\n",
       "      <td>1.0</td>\n",
       "      <td>LINESTRING (-121.87432 37.36876, -121.89072 37...</td>\n",
       "    </tr>\n",
       "    <tr>\n",
       "      <th>67</th>\n",
       "      <td>5-MLPT</td>\n",
       "      <td>5-WARM</td>\n",
       "      <td>1</td>\n",
       "      <td>2</td>\n",
       "      <td>1.0</td>\n",
       "      <td>LINESTRING (-121.89072 37.41056, -121.93904 37...</td>\n",
       "    </tr>\n",
       "  </tbody>\n",
       "</table>\n",
       "</div>"
      ],
      "text/plain": [
       "   route_stop_id next_route_stop_id  start_nid  end_nid  initial_weight  \\\n",
       "66        5-BERY             5-MLPT          0        1             1.0   \n",
       "67        5-MLPT             5-WARM          1        2             1.0   \n",
       "\n",
       "                                             geometry  \n",
       "66  LINESTRING (-121.87432 37.36876, -121.89072 37...  \n",
       "67  LINESTRING (-121.89072 37.41056, -121.93904 37...  "
      ]
     },
     "metadata": {},
     "output_type": "display_data"
    }
   ],
   "source": [
    "### display and export network\n",
    "display(network.all_nodes.head(3))\n",
    "display(network.all_links.head(2))\n",
    "network.all_links.to_csv('outputs/example_links.csv', index=False)\n",
    "network.all_nodes.to_csv('outputs/example_nodes.csv', index=False)"
   ]
  },
  {
   "cell_type": "markdown",
   "id": "b3305f5f",
   "metadata": {
    "id": "b3305f5f"
   },
   "source": [
    "### Step 4. Travel demand\n",
    " * random demand\n",
    " * or, input csv with columns *traveler_id*, *origin_nid*, *destin_nid*, *departure_time*"
   ]
  },
  {
   "cell_type": "code",
   "execution_count": 7,
   "id": "389f2045",
   "metadata": {
    "colab": {
     "base_uri": "https://localhost:8080/",
     "height": 483
    },
    "id": "389f2045",
    "outputId": "f6b42da8-b9e0-485f-a90c-aceb6febb0b0"
   },
   "outputs": [
    {
     "data": {
      "text/html": [
       "<div>\n",
       "<style scoped>\n",
       "    .dataframe tbody tr th:only-of-type {\n",
       "        vertical-align: middle;\n",
       "    }\n",
       "\n",
       "    .dataframe tbody tr th {\n",
       "        vertical-align: top;\n",
       "    }\n",
       "\n",
       "    .dataframe thead th {\n",
       "        text-align: right;\n",
       "    }\n",
       "</style>\n",
       "<table border=\"1\" class=\"dataframe\">\n",
       "  <thead>\n",
       "    <tr style=\"text-align: right;\">\n",
       "      <th></th>\n",
       "      <th>origin_nid</th>\n",
       "      <th>destin_nid</th>\n",
       "      <th>traveler_id</th>\n",
       "      <th>departure_time</th>\n",
       "      <th>traveler_status</th>\n",
       "      <th>update_time</th>\n",
       "      <th>association</th>\n",
       "      <th>next_station</th>\n",
       "      <th>origin_station</th>\n",
       "      <th>destination_station</th>\n",
       "    </tr>\n",
       "  </thead>\n",
       "  <tbody>\n",
       "    <tr>\n",
       "      <th>0</th>\n",
       "      <td>270</td>\n",
       "      <td>261</td>\n",
       "      <td>0</td>\n",
       "      <td>28986</td>\n",
       "      <td>pretrip</td>\n",
       "      <td>0</td>\n",
       "      <td>None</td>\n",
       "      <td>None</td>\n",
       "      <td>all-UCTY</td>\n",
       "      <td>all-PLZA</td>\n",
       "    </tr>\n",
       "    <tr>\n",
       "      <th>1</th>\n",
       "      <td>273</td>\n",
       "      <td>226</td>\n",
       "      <td>1</td>\n",
       "      <td>26871</td>\n",
       "      <td>pretrip</td>\n",
       "      <td>0</td>\n",
       "      <td>None</td>\n",
       "      <td>None</td>\n",
       "      <td>all-WDUB</td>\n",
       "      <td>all-12TH</td>\n",
       "    </tr>\n",
       "    <tr>\n",
       "      <th>2</th>\n",
       "      <td>226</td>\n",
       "      <td>257</td>\n",
       "      <td>2</td>\n",
       "      <td>29491</td>\n",
       "      <td>pretrip</td>\n",
       "      <td>0</td>\n",
       "      <td>None</td>\n",
       "      <td>None</td>\n",
       "      <td>all-12TH</td>\n",
       "      <td>all-ORIN</td>\n",
       "    </tr>\n",
       "    <tr>\n",
       "      <th>3</th>\n",
       "      <td>229</td>\n",
       "      <td>231</td>\n",
       "      <td>3</td>\n",
       "      <td>26830</td>\n",
       "      <td>pretrip</td>\n",
       "      <td>0</td>\n",
       "      <td>None</td>\n",
       "      <td>None</td>\n",
       "      <td>all-24TH</td>\n",
       "      <td>all-ASHB</td>\n",
       "    </tr>\n",
       "    <tr>\n",
       "      <th>4</th>\n",
       "      <td>229</td>\n",
       "      <td>256</td>\n",
       "      <td>4</td>\n",
       "      <td>28823</td>\n",
       "      <td>pretrip</td>\n",
       "      <td>0</td>\n",
       "      <td>None</td>\n",
       "      <td>None</td>\n",
       "      <td>all-24TH</td>\n",
       "      <td>all-NCON</td>\n",
       "    </tr>\n",
       "    <tr>\n",
       "      <th>...</th>\n",
       "      <td>...</td>\n",
       "      <td>...</td>\n",
       "      <td>...</td>\n",
       "      <td>...</td>\n",
       "      <td>...</td>\n",
       "      <td>...</td>\n",
       "      <td>...</td>\n",
       "      <td>...</td>\n",
       "      <td>...</td>\n",
       "      <td>...</td>\n",
       "    </tr>\n",
       "    <tr>\n",
       "      <th>93</th>\n",
       "      <td>249</td>\n",
       "      <td>247</td>\n",
       "      <td>92</td>\n",
       "      <td>28486</td>\n",
       "      <td>pretrip</td>\n",
       "      <td>0</td>\n",
       "      <td>None</td>\n",
       "      <td>None</td>\n",
       "      <td>all-LAFY</td>\n",
       "      <td>all-GLEN</td>\n",
       "    </tr>\n",
       "    <tr>\n",
       "      <th>94</th>\n",
       "      <td>241</td>\n",
       "      <td>257</td>\n",
       "      <td>93</td>\n",
       "      <td>27717</td>\n",
       "      <td>pretrip</td>\n",
       "      <td>0</td>\n",
       "      <td>None</td>\n",
       "      <td>None</td>\n",
       "      <td>all-DBRK</td>\n",
       "      <td>all-ORIN</td>\n",
       "    </tr>\n",
       "    <tr>\n",
       "      <th>96</th>\n",
       "      <td>247</td>\n",
       "      <td>233</td>\n",
       "      <td>94</td>\n",
       "      <td>28441</td>\n",
       "      <td>pretrip</td>\n",
       "      <td>0</td>\n",
       "      <td>None</td>\n",
       "      <td>None</td>\n",
       "      <td>all-GLEN</td>\n",
       "      <td>all-BAYF</td>\n",
       "    </tr>\n",
       "    <tr>\n",
       "      <th>97</th>\n",
       "      <td>274</td>\n",
       "      <td>250</td>\n",
       "      <td>95</td>\n",
       "      <td>26810</td>\n",
       "      <td>pretrip</td>\n",
       "      <td>0</td>\n",
       "      <td>None</td>\n",
       "      <td>None</td>\n",
       "      <td>all-WOAK</td>\n",
       "      <td>all-LAKE</td>\n",
       "    </tr>\n",
       "    <tr>\n",
       "      <th>98</th>\n",
       "      <td>231</td>\n",
       "      <td>241</td>\n",
       "      <td>96</td>\n",
       "      <td>27961</td>\n",
       "      <td>pretrip</td>\n",
       "      <td>0</td>\n",
       "      <td>None</td>\n",
       "      <td>None</td>\n",
       "      <td>all-ASHB</td>\n",
       "      <td>all-DBRK</td>\n",
       "    </tr>\n",
       "  </tbody>\n",
       "</table>\n",
       "<p>97 rows × 10 columns</p>\n",
       "</div>"
      ],
      "text/plain": [
       "    origin_nid  destin_nid  traveler_id  departure_time traveler_status  \\\n",
       "0          270         261            0           28986         pretrip   \n",
       "1          273         226            1           26871         pretrip   \n",
       "2          226         257            2           29491         pretrip   \n",
       "3          229         231            3           26830         pretrip   \n",
       "4          229         256            4           28823         pretrip   \n",
       "..         ...         ...          ...             ...             ...   \n",
       "93         249         247           92           28486         pretrip   \n",
       "94         241         257           93           27717         pretrip   \n",
       "96         247         233           94           28441         pretrip   \n",
       "97         274         250           95           26810         pretrip   \n",
       "98         231         241           96           27961         pretrip   \n",
       "\n",
       "    update_time association next_station origin_station destination_station  \n",
       "0             0        None         None       all-UCTY            all-PLZA  \n",
       "1             0        None         None       all-WDUB            all-12TH  \n",
       "2             0        None         None       all-12TH            all-ORIN  \n",
       "3             0        None         None       all-24TH            all-ASHB  \n",
       "4             0        None         None       all-24TH            all-NCON  \n",
       "..          ...         ...          ...            ...                 ...  \n",
       "93            0        None         None       all-LAFY            all-GLEN  \n",
       "94            0        None         None       all-DBRK            all-ORIN  \n",
       "96            0        None         None       all-GLEN            all-BAYF  \n",
       "97            0        None         None       all-WOAK            all-LAKE  \n",
       "98            0        None         None       all-ASHB            all-DBRK  \n",
       "\n",
       "[97 rows x 10 columns]"
      ]
     },
     "metadata": {},
     "output_type": "display_data"
    }
   ],
   "source": [
    "### random OD\n",
    "### create instance\n",
    "travelers = Travelers()\n",
    "### generate random od\n",
    "travelers.random_od(network.all_nodes, num_travelers=100)\n",
    "### find routes\n",
    "travelers.find_routes(network.network_g, network.station_id_nm_dict)\n",
    "travelers.set_initial_status(network.station_id_nm_dict)\n",
    "\n",
    "display(travelers.travelers_df)"
   ]
  },
  {
   "cell_type": "code",
   "execution_count": 8,
   "id": "0f27998a",
   "metadata": {
    "colab": {
     "base_uri": "https://localhost:8080/",
     "height": 161
    },
    "id": "0f27998a",
    "outputId": "710da18d-0899-4ea9-833d-4db9227d3656"
   },
   "outputs": [
    {
     "name": "stdout",
     "output_type": "stream",
     "text": [
      "{'all-BALB': '2-BALB', '2-BALB': '2-PITT', '2-PITT': 'all-PITT'}\n"
     ]
    },
    {
     "data": {
      "text/html": [
       "<div>\n",
       "<style scoped>\n",
       "    .dataframe tbody tr th:only-of-type {\n",
       "        vertical-align: middle;\n",
       "    }\n",
       "\n",
       "    .dataframe tbody tr th {\n",
       "        vertical-align: top;\n",
       "    }\n",
       "\n",
       "    .dataframe thead th {\n",
       "        text-align: right;\n",
       "    }\n",
       "</style>\n",
       "<table border=\"1\" class=\"dataframe\">\n",
       "  <thead>\n",
       "    <tr style=\"text-align: right;\">\n",
       "      <th></th>\n",
       "      <th>origin_nid</th>\n",
       "      <th>destin_nid</th>\n",
       "      <th>traveler_id</th>\n",
       "      <th>departure_time</th>\n",
       "      <th>traveler_status</th>\n",
       "      <th>update_time</th>\n",
       "      <th>association</th>\n",
       "      <th>next_station</th>\n",
       "      <th>origin_station</th>\n",
       "      <th>destination_station</th>\n",
       "    </tr>\n",
       "  </thead>\n",
       "  <tbody>\n",
       "    <tr>\n",
       "      <th>11</th>\n",
       "      <td>232</td>\n",
       "      <td>260</td>\n",
       "      <td>11</td>\n",
       "      <td>26731</td>\n",
       "      <td>pretrip</td>\n",
       "      <td>0</td>\n",
       "      <td>None</td>\n",
       "      <td>None</td>\n",
       "      <td>all-BALB</td>\n",
       "      <td>all-PITT</td>\n",
       "    </tr>\n",
       "  </tbody>\n",
       "</table>\n",
       "</div>"
      ],
      "text/plain": [
       "    origin_nid  destin_nid  traveler_id  departure_time traveler_status  \\\n",
       "11         232         260           11           26731         pretrip   \n",
       "\n",
       "    update_time association next_station origin_station destination_station  \n",
       "11            0        None         None       all-BALB            all-PITT  "
      ]
     },
     "metadata": {},
     "output_type": "display_data"
    }
   ],
   "source": [
    "### check if travelers can transfer between lines\n",
    "#print(travelers.travelers_paths[80])\n",
    "print(travelers.travelers_key_stops[11])\n",
    "all_trains.schedule_df[(all_trains.schedule_df['location']=='1-COLM') & \n",
    "                      (all_trains.schedule_df['next_time']>29400+140) &\n",
    "                       (all_trains.schedule_df['next_time']<29424+1000)\n",
    "                      ]\n",
    "all_trains.schedule_df[all_trains.schedule_df['trip_id']==964621].head()\n",
    "display(travelers.travelers_df.iloc[11:12])"
   ]
  },
  {
   "cell_type": "markdown",
   "id": "78784682",
   "metadata": {
    "id": "78784682"
   },
   "source": [
    "### Step 5. Run the simulation"
   ]
  },
  {
   "cell_type": "code",
   "execution_count": 9,
   "id": "94b25005",
   "metadata": {
    "id": "94b25005"
   },
   "outputs": [],
   "source": [
    "def save_results(network, trains, travelers, t):\n",
    "    ### save train results\n",
    "    train_positions = trains.get_all_train_positions(network)\n",
    "    train_positions.to_csv('outputs/train_outputs/train_outputs_od100_{}.csv'.format(t), index=False)\n",
    "    ### save traveler results\n",
    "    traveler_locations = travelers.travelers_df.groupby(\n",
    "            ['traveler_status', 'association']).size().to_frame(\n",
    "            name='num_travelers').reset_index(drop=False)\n",
    "    traveler_locations.to_csv('outputs/traveler_outputs/traveler_outputs_od100_{}.csv'.format(t), index=False)"
   ]
  },
  {
   "cell_type": "code",
   "execution_count": 10,
   "id": "daea7d76",
   "metadata": {
    "id": "daea7d76"
   },
   "outputs": [],
   "source": [
    "for t in range(26664-200, 30700, 20):\n",
    "    ### update train location\n",
    "    all_trains.update_location_occupancy(t)\n",
    "    \n",
    "    ### update traveler status\n",
    "    travelers.traveler_update(network, all_trains, t)\n",
    "    \n",
    "    ### print and plot results\n",
    "    #plot_map(network, all_trains, travelers, t)\n",
    "    save_results(network, all_trains, travelers, t)\n",
    "    "
   ]
  },
  {
   "cell_type": "code",
   "execution_count": null,
   "id": "401c25e7",
   "metadata": {
    "id": "401c25e7"
   },
   "outputs": [],
   "source": [
    "### zip outputs and upload to the transit_vis notebook\n",
    "!tar czvf outputs.tar.gz outputs"
   ]
  }
 ],
 "metadata": {
  "colab": {
   "name": "transit_sim.ipynb",
   "provenance": []
  },
  "kernelspec": {
   "display_name": "Python 3",
   "language": "python",
   "name": "python3"
  },
  "language_info": {
   "codemirror_mode": {
    "name": "ipython",
    "version": 3
   },
   "file_extension": ".py",
   "mimetype": "text/x-python",
   "name": "python",
   "nbconvert_exporter": "python",
   "pygments_lexer": "ipython3",
   "version": "3.8.8"
  }
 },
 "nbformat": 4,
 "nbformat_minor": 5
}
