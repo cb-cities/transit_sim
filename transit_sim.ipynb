{
 "cells": [
  {
   "cell_type": "markdown",
   "id": "mMR4650MlZ3e",
   "metadata": {
    "id": "mMR4650MlZ3e"
   },
   "source": [
    "### Step 1. Import required Python packages\n",
    "Required packages (installation instructions provided in README.md):\n",
    " * Generic: numpy\n",
    " * Geometry manipulation: shapely, geopandas\n",
    " * Shortest path: sp (https://github.com/cb-cities/sp)\n",
    " * Plotting: matplotlib"
   ]
  },
  {
   "cell_type": "code",
   "execution_count": 17,
   "id": "64c95e77",
   "metadata": {
    "id": "64c95e77"
   },
   "outputs": [],
   "source": [
    "### plotting\n",
    "import pandas as pd \n",
    "import matplotlib.pyplot as plt\n",
    "\n",
    "### transit simulation\n",
    "from model.transit_sim_model import Network, Trains, Travelers\n",
    "\n",
    "### fix random seed\n",
    "import numpy as np\n",
    "np.random.seed(0)"
   ]
  },
  {
   "cell_type": "markdown",
   "id": "56bd6353",
   "metadata": {
    "id": "56bd6353"
   },
   "source": [
    "### Step 2. Process GTFS schedules\n",
    "Need the following tables:\n",
    " * stop_times.txt: schedule info\n",
    " * trips.txt: map trip_id to route_id\n",
    " * stops.txt: get stop coordinates (for visualization)"
   ]
  },
  {
   "cell_type": "code",
   "execution_count": 18,
   "id": "e5586cb7",
   "metadata": {
    "id": "e5586cb7"
   },
   "outputs": [],
   "source": [
    "### input and output path\n",
    "in_path = ### replace with path to input folder\n",
    "out_path = ### replace with path to output folder\n",
    "start_time = 5*3600 ### simulation start time in seconds since 12 AM\n",
    "end_time = 11*3600 ### simulation end time in seconds  since 12 AM \n",
    "time_step = 20 ### simulation time step size in seconds\n",
    "\n",
    "### read in GTFS files\n",
    "stop_times_file = ### path to GTFS stop_times.txt file\n",
    "trips_file = ### path to GTFS trips.txt file\n",
    "stops_file = ### path to GTFS stops.txt file\n",
    "\n",
    "### only keep results with this service id\n",
    "service_id = ### GTFS service_id, can be found in calendar.txt file\n",
    "scen_nm = 'test'\n",
    "\n",
    "### create all trains from GTFS\n",
    "all_trains = Trains()\n",
    "all_nodes, all_links = all_trains.schedule_and_network_from_gtfs(\n",
    "    stop_times_file, trips_file, stops_file, service_id)\n",
    "\n",
    "### create network from nodes and links\n",
    "network = Network(all_nodes, all_links)"
   ]
  },
  {
   "cell_type": "code",
   "execution_count": null,
   "id": "c509a998",
   "metadata": {
    "colab": {
     "base_uri": "https://localhost:8080/",
     "height": 270
    },
    "id": "c509a998",
    "outputId": "c7cd8412-0649-4577-96f2-75c237f12ec4",
    "tags": []
   },
   "outputs": [],
   "source": [
    "### display and export schedule\n",
    "all_trains.schedule_df.to_csv('{}/{}_schedule.csv'.format(out_path, scen_nm), index=False)\n",
    "all_trains.schedule_df.head(1)\n",
    "\n",
    "### display and export network\n",
    "display(network.all_nodes.head(1))\n",
    "display(network.all_links.head(1))\n",
    "network.all_links.to_csv('{}/{}_links.csv'.format(out_path, scen_nm), index=False)\n",
    "network.all_nodes.to_csv('{}/{}_nodes.csv'.format(out_path, scen_nm), index=False)"
   ]
  },
  {
   "cell_type": "markdown",
   "id": "b3305f5f",
   "metadata": {
    "id": "b3305f5f"
   },
   "source": [
    "### Step 3. Travel demand\n",
    " * random demand\n",
    " * or, input csv with columns *traveler_id*, *origin_nid*, *destin_nid*, *departure_time*"
   ]
  },
  {
   "cell_type": "code",
   "execution_count": 19,
   "id": "a1cbe520",
   "metadata": {
    "tags": []
   },
   "outputs": [],
   "source": [
    "def set_demand(scen_nm, network):\n",
    "    travelers_df = pd.read_csv('{}/{}_od.csv'.format(in_path, scen_nm))\n",
    "\n",
    "    station_to_node_dict = {getattr(row, 'stop_id'): getattr(row, 'node_id') for row in network.all_nodes.itertuples()}\n",
    "    travelers_df['origin_nid'] = travelers_df['enter_station'].map(station_to_node_dict)#.astype(int)\n",
    "    travelers_df['destin_nid'] = travelers_df['exit_station'].map(station_to_node_dict)#.astype(int)\n",
    "    travelers_df['traveler_id'] = np.arange(travelers_df.shape[0])\n",
    "    travelers_df = travelers_df[travelers_df['origin_nid'] != travelers_df['destin_nid']]\n",
    "\n",
    "    travelers = Travelers()\n",
    "    travelers.travelers_df = travelers_df[['traveler_id', 'origin_nid', 'destin_nid', 'departure_time']].copy()#.iloc[1871:1875]\n",
    "    travelers.find_routes(network.network_g, network.station_id_nm_dict, network.station_id_route_dict)\n",
    "    travelers.set_initial_status(network.station_id_nm_dict)\n",
    "\n",
    "    print(travelers.travelers_df.shape)\n",
    "    display(travelers.travelers_df.tail())\n",
    "    \n",
    "    return travelers"
   ]
  },
  {
   "cell_type": "markdown",
   "id": "78784682",
   "metadata": {
    "id": "78784682"
   },
   "source": [
    "### Step 4. Run the simulation"
   ]
  },
  {
   "cell_type": "code",
   "execution_count": 20,
   "id": "94b25005",
   "metadata": {
    "id": "94b25005"
   },
   "outputs": [],
   "source": [
    "def save_agg_results(network, trains, travelers, t, scen_nm=''):\n",
    "    ### save train results\n",
    "    train_positions = trains.get_all_train_positions(network)\n",
    "    train_positions.to_csv('{}/train_outputs/train_outputs_{}_{}.csv'.format(out_path, scen_nm, t), index=False)\n",
    "    ### save aggregated traveler results\n",
    "    traveler_locations = travelers.travelers_df[['traveler_status', 'association']].fillna(np.nan).groupby(\n",
    "            ['traveler_status', 'association']).size().to_frame(\n",
    "            name='num_travelers').reset_index(drop=False)\n",
    "    traveler_locations.to_csv('{}/traveler_outputs/agg_traveler_outputs_{}_{}.csv'.format(out_path, scen_nm, t), \n",
    "                              index=False)\n",
    "\n",
    "def save_indiv_results(travelers, t, scen_nm=''):\n",
    "    ### save individual traveler results\n",
    "    travelers.travelers_df.to_csv('{}/traveler_outputs/indiv_traveler_outputs_{}_{}.csv'.format(out_path, scen_nm, t), \n",
    "                                  index=False)\n",
    "    \n",
    "def save_new_board(new_board, t, scen_nm = ''):\n",
    "    #### list of newly boarded travelers\n",
    "    if new_board.shape[0]>0:\n",
    "        new_board.to_csv('{}/traveler_outputs/boarding_traveler_outputs_{}_{}.csv'.format(out_path, scen_nm, t), \n",
    "                                  index=False)\n",
    "        \n",
    "def run_simulation(network, all_trains, travelers):\n",
    "    \n",
    "    t_init, t_end, t_step = start_time, end_time, time_step\n",
    "    trace_ods = []\n",
    "    trace_list = []\n",
    "    scen_spec = 'spec' ### some simulation specific tags\n",
    "\n",
    "    agent_status = None\n",
    "    for t in range(t_init, t_end, t_step):\n",
    "\n",
    "        ### update train location\n",
    "        all_trains.update_location_occupancy(t)\n",
    "\n",
    "        ### update traveler status\n",
    "        new_board = travelers.traveler_update(network, all_trains, t)\n",
    "\n",
    "        ### print and plot results\n",
    "        save_agg_results(network, all_trains, travelers, t, scen_nm=scen_nm+'_'+scen_spec)\n",
    "        ### save boarding data for analysis\n",
    "        # save_new_board(new_board, t, scen_nm=scen_nm)\n",
    "\n",
    "        trace_list.append(travelers.travelers_df.loc[travelers.travelers_df['traveler_id'].isin(trace_ods), \n",
    "                                          ['traveler_id', 'update_time', 'traveler_status', 'association']])\n",
    "\n",
    "        if (t-t_init)%300==0:\n",
    "            # save_indiv_results(travelers, t, scen_nm=scen_nm+'_'+scen_spec)\n",
    "            print('Simulation at {}:{:02}am, {}'.format(t//3600, (t%3600)//60, t))\n",
    "\n",
    "    ### agent trace\n",
    "    trace_df = pd.concat(trace_list)\n",
    "    trace_df = trace_df.groupby(['traveler_id', 'traveler_status', 'association']).first().reset_index()\n",
    "    trace_df.to_csv('{}/traveler_outputs/traveler_trace_{}.csv'.format(\n",
    "        out_path, scen_nm+'_'+scen_spec), index=False)\n",
    "    \n",
    "    ### final traveler status\n",
    "    travelers.travelers_df.to_csv('{}/traveler_outputs/final_traveler_status_{}.csv'.format(\n",
    "        out_path, scen_nm+'_'+scen_spec), index=False)"
   ]
  },
  {
   "cell_type": "code",
   "execution_count": null,
   "id": "66f33d55-8e31-4874-aad1-bc9dc8fd3058",
   "metadata": {
    "tags": []
   },
   "outputs": [],
   "source": [
    "### reset all traveler status to pre-departure\n",
    "travelers = set_demand(scen_nm, network)\n",
    "\n",
    "### run simulation and save outputs\n",
    "run_simulation(network, all_trains, travelers)"
   ]
  },
  {
   "cell_type": "code",
   "execution_count": null,
   "id": "f08d055c-cc70-4448-84f6-4d167a5d57b2",
   "metadata": {},
   "outputs": [],
   "source": []
  }
 ],
 "metadata": {
  "colab": {
   "name": "transit_sim.ipynb",
   "provenance": []
  },
  "kernelspec": {
   "display_name": "Python 3 (ipykernel)",
   "language": "python",
   "name": "python3"
  },
  "language_info": {
   "codemirror_mode": {
    "name": "ipython",
    "version": 3
   },
   "file_extension": ".py",
   "mimetype": "text/x-python",
   "name": "python",
   "nbconvert_exporter": "python",
   "pygments_lexer": "ipython3",
   "version": "3.8.11"
  }
 },
 "nbformat": 4,
 "nbformat_minor": 5
}
